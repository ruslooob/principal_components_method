{
 "cells": [
  {
   "cell_type": "code",
   "execution_count": 196,
   "id": "initial_id",
   "metadata": {
    "collapsed": true,
    "ExecuteTime": {
     "end_time": "2023-12-25T09:13:36.897884Z",
     "start_time": "2023-12-25T09:13:36.893920900Z"
    }
   },
   "outputs": [],
   "source": [
    "import numpy as np\n",
    "import pandas as pd"
   ]
  },
  {
   "cell_type": "code",
   "execution_count": 197,
   "outputs": [
    {
     "data": {
      "text/plain": "   Person ID Gender  Age            Occupation  Sleep Duration  \\\n0          1   Male   27     Software Engineer             6.1   \n1          2   Male   28                Doctor             6.2   \n2          3   Male   28                Doctor             6.2   \n3          4   Male   28  Sales Representative             5.9   \n4          5   Male   28  Sales Representative             5.9   \n\n   Quality of Sleep  Physical Activity Level  Stress Level BMI Category  \\\n0                 6                       42             6   Overweight   \n1                 6                       60             8       Normal   \n2                 6                       60             8       Normal   \n3                 4                       30             8        Obese   \n4                 4                       30             8        Obese   \n\n  Blood Pressure  Heart Rate  Daily Steps Sleep Disorder  \n0         126/83          77         4200           None  \n1         125/80          75        10000           None  \n2         125/80          75        10000           None  \n3         140/90          85         3000    Sleep Apnea  \n4         140/90          85         3000    Sleep Apnea  ",
      "text/html": "<div>\n<style scoped>\n    .dataframe tbody tr th:only-of-type {\n        vertical-align: middle;\n    }\n\n    .dataframe tbody tr th {\n        vertical-align: top;\n    }\n\n    .dataframe thead th {\n        text-align: right;\n    }\n</style>\n<table border=\"1\" class=\"dataframe\">\n  <thead>\n    <tr style=\"text-align: right;\">\n      <th></th>\n      <th>Person ID</th>\n      <th>Gender</th>\n      <th>Age</th>\n      <th>Occupation</th>\n      <th>Sleep Duration</th>\n      <th>Quality of Sleep</th>\n      <th>Physical Activity Level</th>\n      <th>Stress Level</th>\n      <th>BMI Category</th>\n      <th>Blood Pressure</th>\n      <th>Heart Rate</th>\n      <th>Daily Steps</th>\n      <th>Sleep Disorder</th>\n    </tr>\n  </thead>\n  <tbody>\n    <tr>\n      <th>0</th>\n      <td>1</td>\n      <td>Male</td>\n      <td>27</td>\n      <td>Software Engineer</td>\n      <td>6.1</td>\n      <td>6</td>\n      <td>42</td>\n      <td>6</td>\n      <td>Overweight</td>\n      <td>126/83</td>\n      <td>77</td>\n      <td>4200</td>\n      <td>None</td>\n    </tr>\n    <tr>\n      <th>1</th>\n      <td>2</td>\n      <td>Male</td>\n      <td>28</td>\n      <td>Doctor</td>\n      <td>6.2</td>\n      <td>6</td>\n      <td>60</td>\n      <td>8</td>\n      <td>Normal</td>\n      <td>125/80</td>\n      <td>75</td>\n      <td>10000</td>\n      <td>None</td>\n    </tr>\n    <tr>\n      <th>2</th>\n      <td>3</td>\n      <td>Male</td>\n      <td>28</td>\n      <td>Doctor</td>\n      <td>6.2</td>\n      <td>6</td>\n      <td>60</td>\n      <td>8</td>\n      <td>Normal</td>\n      <td>125/80</td>\n      <td>75</td>\n      <td>10000</td>\n      <td>None</td>\n    </tr>\n    <tr>\n      <th>3</th>\n      <td>4</td>\n      <td>Male</td>\n      <td>28</td>\n      <td>Sales Representative</td>\n      <td>5.9</td>\n      <td>4</td>\n      <td>30</td>\n      <td>8</td>\n      <td>Obese</td>\n      <td>140/90</td>\n      <td>85</td>\n      <td>3000</td>\n      <td>Sleep Apnea</td>\n    </tr>\n    <tr>\n      <th>4</th>\n      <td>5</td>\n      <td>Male</td>\n      <td>28</td>\n      <td>Sales Representative</td>\n      <td>5.9</td>\n      <td>4</td>\n      <td>30</td>\n      <td>8</td>\n      <td>Obese</td>\n      <td>140/90</td>\n      <td>85</td>\n      <td>3000</td>\n      <td>Sleep Apnea</td>\n    </tr>\n  </tbody>\n</table>\n</div>"
     },
     "execution_count": 197,
     "metadata": {},
     "output_type": "execute_result"
    }
   ],
   "source": [
    "sleep_data = pd.read_csv('../datasets/Sleep_health_and_lifestyle_dataset.csv')\n",
    "sleep_data.head()"
   ],
   "metadata": {
    "collapsed": false,
    "ExecuteTime": {
     "end_time": "2023-12-25T09:13:36.927656700Z",
     "start_time": "2023-12-25T09:13:36.896884Z"
    }
   },
   "id": "9a1906eeced505ab"
  },
  {
   "cell_type": "code",
   "execution_count": 198,
   "outputs": [
    {
     "data": {
      "text/plain": "   Gender       Age  Occupation  Sleep Duration  Quality of Sleep  \\\n0       1 -1.753096           9       -1.298887         -1.098280   \n1       1 -1.637643           1       -1.173036         -1.098280   \n2       1 -1.637643           1       -1.173036         -1.098280   \n3       1 -1.637643           6       -1.550588         -2.771424   \n4       1 -1.637643           6       -1.550588         -2.771424   \n\n   Physical Activity Level  Stress Level  BMI Category  Blood Pressure  \\\n0                -0.825418      0.347021             3              11   \n1                 0.039844      1.475592             0               9   \n2                 0.039844      1.475592             0               9   \n3                -1.402260      1.475592             2              22   \n4                -1.402260      1.475592             2              22   \n\n   Heart Rate  Daily Steps  \n0    1.654719    -1.619584  \n1    1.170474     1.970077  \n2    1.170474     1.970077  \n3    3.591698    -2.362273  \n4    3.591698    -2.362273  ",
      "text/html": "<div>\n<style scoped>\n    .dataframe tbody tr th:only-of-type {\n        vertical-align: middle;\n    }\n\n    .dataframe tbody tr th {\n        vertical-align: top;\n    }\n\n    .dataframe thead th {\n        text-align: right;\n    }\n</style>\n<table border=\"1\" class=\"dataframe\">\n  <thead>\n    <tr style=\"text-align: right;\">\n      <th></th>\n      <th>Gender</th>\n      <th>Age</th>\n      <th>Occupation</th>\n      <th>Sleep Duration</th>\n      <th>Quality of Sleep</th>\n      <th>Physical Activity Level</th>\n      <th>Stress Level</th>\n      <th>BMI Category</th>\n      <th>Blood Pressure</th>\n      <th>Heart Rate</th>\n      <th>Daily Steps</th>\n    </tr>\n  </thead>\n  <tbody>\n    <tr>\n      <th>0</th>\n      <td>1</td>\n      <td>-1.753096</td>\n      <td>9</td>\n      <td>-1.298887</td>\n      <td>-1.098280</td>\n      <td>-0.825418</td>\n      <td>0.347021</td>\n      <td>3</td>\n      <td>11</td>\n      <td>1.654719</td>\n      <td>-1.619584</td>\n    </tr>\n    <tr>\n      <th>1</th>\n      <td>1</td>\n      <td>-1.637643</td>\n      <td>1</td>\n      <td>-1.173036</td>\n      <td>-1.098280</td>\n      <td>0.039844</td>\n      <td>1.475592</td>\n      <td>0</td>\n      <td>9</td>\n      <td>1.170474</td>\n      <td>1.970077</td>\n    </tr>\n    <tr>\n      <th>2</th>\n      <td>1</td>\n      <td>-1.637643</td>\n      <td>1</td>\n      <td>-1.173036</td>\n      <td>-1.098280</td>\n      <td>0.039844</td>\n      <td>1.475592</td>\n      <td>0</td>\n      <td>9</td>\n      <td>1.170474</td>\n      <td>1.970077</td>\n    </tr>\n    <tr>\n      <th>3</th>\n      <td>1</td>\n      <td>-1.637643</td>\n      <td>6</td>\n      <td>-1.550588</td>\n      <td>-2.771424</td>\n      <td>-1.402260</td>\n      <td>1.475592</td>\n      <td>2</td>\n      <td>22</td>\n      <td>3.591698</td>\n      <td>-2.362273</td>\n    </tr>\n    <tr>\n      <th>4</th>\n      <td>1</td>\n      <td>-1.637643</td>\n      <td>6</td>\n      <td>-1.550588</td>\n      <td>-2.771424</td>\n      <td>-1.402260</td>\n      <td>1.475592</td>\n      <td>2</td>\n      <td>22</td>\n      <td>3.591698</td>\n      <td>-2.362273</td>\n    </tr>\n  </tbody>\n</table>\n</div>"
     },
     "execution_count": 198,
     "metadata": {},
     "output_type": "execute_result"
    }
   ],
   "source": [
    "from sklearn.preprocessing import StandardScaler, LabelEncoder\n",
    "from sklearn.impute import SimpleImputer\n",
    "\n",
    "categorical_cols = sleep_data.select_dtypes(include=['object']).columns.drop('Sleep Disorder')\n",
    "numerical_cols = sleep_data.select_dtypes(include=['float64', 'int64']).columns.drop('Person ID')\n",
    "\n",
    "imputer = SimpleImputer(strategy='most_frequent')\n",
    "scaler = StandardScaler()\n",
    "\n",
    "X_transformed = sleep_data.drop(['Sleep Disorder', 'Person ID'], axis=1).copy()\n",
    "y_transformed = sleep_data['Sleep Disorder']\n",
    "\n",
    "for col in numerical_cols:\n",
    "    X_transformed[col] = imputer.fit_transform(X_transformed[[col]])\n",
    "    X_transformed[col] = scaler.fit_transform(X_transformed[[col]])\n",
    "\n",
    "for col in categorical_cols:\n",
    "    X_transformed[col] = imputer.fit_transform(X_transformed[[col]])\n",
    "    X_transformed[col] = LabelEncoder().fit_transform(X_transformed[col])\n",
    "\n",
    "y_encoded = LabelEncoder().fit_transform(y_transformed)\n",
    "\n",
    "X_transformed.head()"
   ],
   "metadata": {
    "collapsed": false,
    "ExecuteTime": {
     "end_time": "2023-12-25T09:13:36.988754200Z",
     "start_time": "2023-12-25T09:13:36.917617Z"
    }
   },
   "id": "e9d86d6fbcc61e3f"
  },
  {
   "cell_type": "code",
   "execution_count": 199,
   "outputs": [
    {
     "name": "stdout",
     "output_type": "stream",
     "text": [
      "Собственные числа\n",
      "[5.53552157e+01 6.77612252e+00 3.43543532e+00 1.53737931e+00\n",
      " 8.75944711e-01 5.49764297e-01 2.08288793e-01 1.62418506e-01\n",
      " 8.11262451e-02 6.85528341e-02 2.55786214e-02]\n",
      "Оставленные столбцы ['Gender']\n",
      "Убранные столбцы ['Age', 'Occupation', 'Sleep Duration', 'Quality of Sleep', 'Physical Activity Level', 'Stress Level', 'BMI Category', 'Blood Pressure', 'Heart Rate', 'Daily Steps']\n"
     ]
    },
    {
     "data": {
      "text/plain": "array([[-0.46863056]])"
     },
     "execution_count": 199,
     "metadata": {},
     "output_type": "execute_result"
    }
   ],
   "source": [
    "def my_pca(X, n_components=None):\n",
    "    \"\"\"\n",
    "    Реализация метода главных компонент.\n",
    "\n",
    "    Параметры:\n",
    "    - X: numpy.ndarray, матрица данных\n",
    "    - n_components: int, количество компонентов (по умолчанию None)\n",
    "\n",
    "    Возвращает:\n",
    "    - X_pca: numpy.ndarray, данные после применения PCA\n",
    "    \"\"\"\n",
    "\n",
    "    mean_vec = np.mean(X, axis=0)\n",
    "    X_scaled = X - mean_vec\n",
    "\n",
    "    cov_matrix = np.cov(X_scaled, rowvar=False)\n",
    "\n",
    "    eigenvalues, eigenvectors = np.linalg.eigh(cov_matrix)\n",
    "\n",
    "    sorted_indices = np.argsort(eigenvalues)[::-1]\n",
    "    eigenvalues = eigenvalues[sorted_indices]\n",
    "    print('Собственные числа')\n",
    "    print(eigenvalues)\n",
    "    eigenvectors = eigenvectors[:, sorted_indices]\n",
    "\n",
    "    if n_components is None:\n",
    "        n_components = min(X.shape[0], X.shape[1])\n",
    "    selected_eigenvectors = eigenvectors[:, :n_components]\n",
    "\n",
    "    X_pca = np.dot(X_scaled, selected_eigenvectors)\n",
    "\n",
    "    all_columns = np.arange(X.shape[1])\n",
    "    retained_columns = np.arange(n_components)\n",
    "    retained_column_names = list(X.columns[retained_columns])\n",
    "    print(f'Оставленные столбцы {retained_column_names}')\n",
    "    \n",
    "    removed_columns = np.setdiff1d(all_columns, retained_columns)\n",
    "    removed_columns_names = list(X.columns[removed_columns])\n",
    "    print(f'Убранные столбцы {removed_columns_names}')\n",
    "\n",
    "    return X_pca\n",
    "\n",
    "n_components = 1\n",
    "X_pca = my_pca(X_transformed, n_components=n_components)\n",
    "\n",
    "X_pca[:n_components, :]"
   ],
   "metadata": {
    "collapsed": false,
    "ExecuteTime": {
     "end_time": "2023-12-25T09:13:36.988754200Z",
     "start_time": "2023-12-25T09:13:36.959357400Z"
    }
   },
   "id": "5b01adbafc227fe2"
  },
  {
   "cell_type": "code",
   "execution_count": 200,
   "outputs": [],
   "source": [
    "class CustomNeuralNetwork:\n",
    "    \"\"\"\n",
    "    Custom implementation of a simple 2-layer neural network.\n",
    "    \"\"\"\n",
    "\n",
    "    def __init__(self, random_state=None):\n",
    "        np.random.seed(random_state)    \n",
    "        self.weights1 = np.random.rand(3, n_components)\n",
    "        self.weights2 = np.random.rand(2, 3)\n",
    "\n",
    "    def _tanh(self, x):\n",
    "        return np.tanh(3 * x)\n",
    "\n",
    "    def _tanh_derivative(self, x):\n",
    "        return 3 * (1 - np.tanh(3 * x) ** 2)\n",
    "\n",
    "    def _forward_propagation(self, X):\n",
    "        self.layer1 = self._tanh(np.dot(X, self.weights1.T))\n",
    "        self.output = self._tanh(np.dot(self.layer1, self.weights2.T))\n",
    "        return self.output\n",
    "\n",
    "    def _backward_propagation(self, X, y, learning_rate):\n",
    "        error = y - self.output\n",
    "\n",
    "        d_weights2 = learning_rate * np.dot(self.layer1.T, error * self._tanh_derivative(self.output))\n",
    "        d_weights1 = learning_rate * np.dot(X.T, np.dot(error * self._tanh_derivative(self.output),\n",
    "                                                        self.weights2) * self._tanh_derivative(self.layer1))\n",
    "\n",
    "        self.weights1 += d_weights1.T\n",
    "        self.weights2 += d_weights2.T\n",
    "\n",
    "    def fit(self, X, y, learning_rate=0.01, epochs=1000):\n",
    "        for _ in range(epochs):\n",
    "            self._forward_propagation(X)\n",
    "            self._backward_propagation(X, y, learning_rate)\n",
    "\n",
    "    def predict(self, X):\n",
    "        output = self._forward_propagation(X)\n",
    "        return np.argmax(output, axis=1)"
   ],
   "metadata": {
    "collapsed": false,
    "ExecuteTime": {
     "end_time": "2023-12-25T09:13:36.988754200Z",
     "start_time": "2023-12-25T09:13:36.968414600Z"
    }
   },
   "id": "45a7d119ffa6aee"
  },
  {
   "cell_type": "code",
   "execution_count": 201,
   "outputs": [
    {
     "data": {
      "text/plain": "(0.6086956521739131, 0.6133333333333333)"
     },
     "execution_count": 201,
     "metadata": {},
     "output_type": "execute_result"
    }
   ],
   "source": [
    "from sklearn.model_selection import train_test_split\n",
    "from sklearn.metrics import accuracy_score\n",
    "\n",
    "X_train, X_test, y_train, y_test = train_test_split(X_pca, y_encoded, test_size=0.20, random_state=42)\n",
    "\n",
    "# Training and testing the custom neural network\n",
    "nn = CustomNeuralNetwork(random_state=42)\n",
    "nn.fit(X_train, y_train.reshape(-1, 1), learning_rate=0.01, epochs=1000)\n",
    "\n",
    "# Making predictions\n",
    "y_train_pred_custom_nn = nn.predict(X_train)\n",
    "y_test_pred_custom_nn = nn.predict(X_test)\n",
    "\n",
    "# Calculating accuracy\n",
    "train_accuracy_custom_nn = accuracy_score(y_train, y_train_pred_custom_nn)\n",
    "test_accuracy_custom_nn = accuracy_score(y_test, y_test_pred_custom_nn)\n",
    "\n",
    "train_accuracy_custom_nn, test_accuracy_custom_nn"
   ],
   "metadata": {
    "collapsed": false,
    "ExecuteTime": {
     "end_time": "2023-12-25T09:13:37.058903300Z",
     "start_time": "2023-12-25T09:13:36.978631400Z"
    }
   },
   "id": "a609e5f8d19b29b3"
  }
 ],
 "metadata": {
  "kernelspec": {
   "display_name": "Python 3",
   "language": "python",
   "name": "python3"
  },
  "language_info": {
   "codemirror_mode": {
    "name": "ipython",
    "version": 2
   },
   "file_extension": ".py",
   "mimetype": "text/x-python",
   "name": "python",
   "nbconvert_exporter": "python",
   "pygments_lexer": "ipython2",
   "version": "2.7.6"
  }
 },
 "nbformat": 4,
 "nbformat_minor": 5
}
